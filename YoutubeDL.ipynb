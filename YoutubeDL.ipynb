{
 "cells": [
  {
   "cell_type": "code",
   "execution_count": 16,
   "metadata": {},
   "outputs": [],
   "source": [
    "from pytube import YouTube\n",
    "from moviepy.editor import *\n",
    "\n",
    "# Ask for the link from user\n",
    "link = 'https://www.youtube.com/watch?v=LnxpNBqUOXI&t=53s'\n",
    "yt = YouTube(link)"
   ]
  },
  {
   "cell_type": "code",
   "execution_count": 17,
   "metadata": {},
   "outputs": [
    {
     "name": "stdout",
     "output_type": "stream",
     "text": [
      "Title:  Poutine menace l’Europe, v🅰️ ccination des enfants, microplastique dans l’air... Actus du jour\n",
      "Number of views:  250428\n",
      "Length of video:  11.166666666666666 min\n"
     ]
    }
   ],
   "source": [
    "# Showing details\n",
    "vid_title = yt.title\n",
    "print('Title: ',vid_title)\n",
    "print('Number of views: ',yt.views)\n",
    "print('Length of video: ',yt.length/60, 'min')"
   ]
  },
  {
   "cell_type": "code",
   "execution_count": 18,
   "metadata": {},
   "outputs": [
    {
     "data": {
      "text/plain": [
       "[<Stream: itag=\"17\" mime_type=\"video/3gpp\" res=\"144p\" fps=\"6fps\" vcodec=\"mp4v.20.3\" acodec=\"mp4a.40.2\" progressive=\"True\" type=\"video\">, <Stream: itag=\"18\" mime_type=\"video/mp4\" res=\"360p\" fps=\"25fps\" vcodec=\"avc1.42001E\" acodec=\"mp4a.40.2\" progressive=\"True\" type=\"video\">, <Stream: itag=\"22\" mime_type=\"video/mp4\" res=\"720p\" fps=\"25fps\" vcodec=\"avc1.64001F\" acodec=\"mp4a.40.2\" progressive=\"True\" type=\"video\">]"
      ]
     },
     "execution_count": 18,
     "metadata": {},
     "output_type": "execute_result"
    }
   ],
   "source": [
    "# Show all the available streams, with DASH/Adaptive\n",
    "yt.streams.filter(progressive=True)"
   ]
  },
  {
   "cell_type": "code",
   "execution_count": 12,
   "metadata": {},
   "outputs": [
    {
     "data": {
      "text/plain": [
       "<Stream: itag=\"18\" mime_type=\"video/mp4\" res=\"360p\" fps=\"25fps\" vcodec=\"avc1.42001E\" acodec=\"mp4a.40.2\" progressive=\"True\" type=\"video\">"
      ]
     },
     "execution_count": 12,
     "metadata": {},
     "output_type": "execute_result"
    }
   ],
   "source": [
    "# Getting the stream by the itag 18\n",
    "ys = yt.streams.get_by_itag(18)\n",
    "ys"
   ]
  },
  {
   "cell_type": "markdown",
   "metadata": {},
   "source": [
    "itag Code\tContainer\tContent\tResolution\tBitrate\tVR / 3D\n",
    "37\tmp4\taudio/video\t1080p\t-\t-\n",
    "85\tmp4\taudio/video\t1080p\t-\t3D\n",
    "38\tmp4\taudio/video\t3072p\t-\t-\n",
    "18\tmp4\taudio/video\t360p\t-\t-\n",
    "82\tmp4\taudio/video\t360p\t-\t3D\n",
    "83\tmp4\taudio/video\t480p\t-\t3D\n",
    "22\tmp4\taudio/video\t720p\t-\t-\n",
    "84\tmp4\taudio/video\t720p\t-\t3D\n",
    "\n",
    "Les itag 18 et 22 sont les plus utiles on dirait, c'est les DASH mp4 audio+vid avec la résolution la plus faible, donc au top.\n",
    "Optimalement, il faut que je liste toutes les vidéos mp4 DASH, et que je prenne celle avec la résolution la plus faible."
   ]
  },
  {
   "cell_type": "code",
   "execution_count": 13,
   "metadata": {},
   "outputs": [
    {
     "name": "stdout",
     "output_type": "stream",
     "text": [
      "Downloading...\n",
      "Download completed !\n"
     ]
    }
   ],
   "source": [
    "# Starting download\n",
    "output_path = '/Users/tim/Desktop'\n",
    "\n",
    "print('Downloading...')\n",
    "ys.download(output_path = output_path, filename = vid_title + '.mp4')\n",
    "print('Download completed !')"
   ]
  },
  {
   "cell_type": "code",
   "execution_count": 14,
   "metadata": {},
   "outputs": [
    {
     "data": {
      "text/plain": [
       "'/Users/tim/Desktop/Poutine menace l’Europe, v🅰️ ccination des enfants, microplastique dans l’air... Actus du jour.mp4'"
      ]
     },
     "execution_count": 14,
     "metadata": {},
     "output_type": "execute_result"
    }
   ],
   "source": [
    "mp4_path_name_ext = output_path + '/' + vid_title + '.mp4'\n",
    "mp3_path_name_ext = output_path + '/' + vid_title + '.mp3'\n",
    "mp4_path_name_ext\n"
   ]
  },
  {
   "cell_type": "code",
   "execution_count": 15,
   "metadata": {},
   "outputs": [
    {
     "name": "stdout",
     "output_type": "stream",
     "text": [
      "MoviePy - Writing audio in Poutine menace l’Europe, v🅰️ ccination des enfants, microplastique dans l’air... Actus du jour.mp3\n"
     ]
    },
    {
     "name": "stderr",
     "output_type": "stream",
     "text": [
      "                                                                        "
     ]
    },
    {
     "name": "stdout",
     "output_type": "stream",
     "text": [
      "MoviePy - Done.\n"
     ]
    },
    {
     "name": "stderr",
     "output_type": "stream",
     "text": [
      "\r"
     ]
    }
   ],
   "source": [
    "video = VideoFileClip(vid_title + '.mp4')\n",
    "video.audio.write_audiofile(vid_title + '.mp3')\n",
    "\n",
    "# JE COMPRENDS, il faut que la vidéo à l'entrée aie un flux vidéo !"
   ]
  }
 ],
 "metadata": {
  "interpreter": {
   "hash": "abf40aa0baa70793708b3d97b962506a967fa14dc7b0e8c59096f1c54f660603"
  },
  "kernelspec": {
   "display_name": "Python 3.9.7 64-bit ('tim_custom': conda)",
   "language": "python",
   "name": "python3"
  },
  "language_info": {
   "codemirror_mode": {
    "name": "ipython",
    "version": 3
   },
   "file_extension": ".py",
   "mimetype": "text/x-python",
   "name": "python",
   "nbconvert_exporter": "python",
   "pygments_lexer": "ipython3",
   "version": "3.7.11"
  },
  "orig_nbformat": 4
 },
 "nbformat": 4,
 "nbformat_minor": 2
}
